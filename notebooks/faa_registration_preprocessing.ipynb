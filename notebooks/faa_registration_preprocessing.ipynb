{
 "cells": [
  {
   "cell_type": "markdown",
   "metadata": {},
   "source": [
    "# Data Cleaning for `faa_registration` file\n",
    "\n",
    "## Objective:\n",
    "1. Convert float as integer\n",
    "2. Replace 0 as NaN\n",
    "3. Refactor bool column\n",
    "4. Refactor date column\n",
    "\n",
    "---\n",
    "\n",
    "## Imports"
   ]
  },
  {
   "cell_type": "code",
   "execution_count": 1,
   "metadata": {},
   "outputs": [],
   "source": [
    "import pandas as pd\n",
    "import numpy as np\n",
    "import time"
   ]
  },
  {
   "cell_type": "code",
   "execution_count": 2,
   "metadata": {},
   "outputs": [],
   "source": [
    "file_url = 'https://storage.googleapis.com/sky-plane/kaggle-dataset/faa_registration.csv'"
   ]
  },
  {
   "cell_type": "code",
   "execution_count": 3,
   "metadata": {},
   "outputs": [],
   "source": [
    "file_name = file_url.split('/')[-1].split('.')[0]\n",
    "ts = time.strftime(\"%Y%m%d-%H%M%S\")"
   ]
  },
  {
   "cell_type": "code",
   "execution_count": 4,
   "metadata": {},
   "outputs": [],
   "source": [
    "df = pd.read_csv(file_url, \n",
    "dtype={\n",
    "    'ENG MFR MDL':'Int64',\n",
    "    'YEAR MFR': 'Int64',\n",
    "    'TYPE REGISTRANT': 'Int64',\n",
    "    'COUNTY': 'Int64',\n",
    "    'LAST ACTION DATE': 'Int64',\n",
    "    'CERT ISSUE DATE':'Int64',\n",
    "    'TYPE AIRCRAFT': 'object',\n",
    "    'TYPE ENGINE':'Int64',\n",
    "    # 'FRACT OWNER': 'bool',\n",
    "    'AIR WORTH DATE':'Int64',\n",
    "    'EXPIRATION DATE': 'Int64',\n",
    "    'UNIQUE ID': 'Int64',\n",
    "    'X35': 'object',\n",
    "    })"
   ]
  },
  {
   "cell_type": "code",
   "execution_count": 5,
   "metadata": {},
   "outputs": [],
   "source": [
    "df['ENG MFR MDL']=df['ENG MFR MDL'].replace(0, np.nan)"
   ]
  },
  {
   "cell_type": "code",
   "execution_count": 6,
   "metadata": {},
   "outputs": [],
   "source": [
    "df['FRACT OWNER']=df['FRACT OWNER'].replace('Y', True)\n",
    "df['FRACT OWNER']=df['FRACT OWNER'].replace(np.nan, False)"
   ]
  },
  {
   "cell_type": "code",
   "execution_count": 7,
   "metadata": {},
   "outputs": [],
   "source": [
    "df['YEAR MFR'] = pd.to_datetime(df['YEAR MFR'], format='%Y', errors='coerce')\n",
    "df['LAST ACTION DATE'] = pd.to_datetime(df['LAST ACTION DATE'], format='%Y%m%d', errors='coerce')\n",
    "df['CERT ISSUE DATE'] = pd.to_datetime(df['CERT ISSUE DATE'], format='%Y%m%d', errors='coerce')\n",
    "df['AIR WORTH DATE'] = pd.to_datetime(df['AIR WORTH DATE'], format='%Y%m%d', errors='coerce')\n",
    "df['EXPIRATION DATE'] = pd.to_datetime(df['EXPIRATION DATE'], format='%Y%m%d', errors='coerce')"
   ]
  },
  {
   "cell_type": "code",
   "execution_count": 8,
   "metadata": {},
   "outputs": [],
   "source": [
    "df.to_csv(f\"../data/processed/{file_name}_{ts}.csv\", index=False, date_format='%Y-%m-%d')"
   ]
  }
 ],
 "metadata": {
  "kernelspec": {
   "display_name": "Python 3.7.9 ('spyplane': venv)",
   "language": "python",
   "name": "python3"
  },
  "language_info": {
   "codemirror_mode": {
    "name": "ipython",
    "version": 3
   },
   "file_extension": ".py",
   "mimetype": "text/x-python",
   "name": "python",
   "nbconvert_exporter": "python",
   "pygments_lexer": "ipython3",
   "version": "3.7.9"
  },
  "orig_nbformat": 4,
  "vscode": {
   "interpreter": {
    "hash": "a43832ebfd30fa277e9a5a6141a4625cbbc0ace79afa1e196581854c9706d165"
   }
  }
 },
 "nbformat": 4,
 "nbformat_minor": 2
}
