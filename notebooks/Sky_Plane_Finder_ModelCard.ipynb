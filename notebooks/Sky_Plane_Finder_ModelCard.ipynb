{
  "cells": [
    {
      "cell_type": "markdown",
      "metadata": {
        "id": "Tce3stUlHN0L"
      },
      "source": [
        "##### Copyright 2020 The TensorFlow Authors."
      ]
    },
    {
      "cell_type": "code",
      "execution_count": 1,
      "metadata": {
        "cellView": "form",
        "id": "tuOe1ymfHZPu"
      },
      "outputs": [],
      "source": [
        "#@title Licensed under the Apache License, Version 2.0 (the \"License\");\n",
        "# you may not use this file except in compliance with the License.\n",
        "# You may obtain a copy of the License at\n",
        "#\n",
        "# https://www.apache.org/licenses/LICENSE-2.0\n",
        "#\n",
        "# Unless required by applicable law or agreed to in writing, software\n",
        "# distributed under the License is distributed on an \"AS IS\" BASIS,\n",
        "# WITHOUT WARRANTIES OR CONDITIONS OF ANY KIND, either express or implied.\n",
        "# See the License for the specific language governing permissions and\n",
        "# limitations under the License."
      ]
    },
    {
      "cell_type": "markdown",
      "metadata": {
        "id": "23R0Z9RojXYW"
      },
      "source": [
        "# Scikit-Learn Model Card Toolkit Demo\n"
      ]
    },
    {
      "cell_type": "markdown",
      "metadata": {
        "id": "MfBg1C5NB3X0"
      },
      "source": [
        "<table class=\"tfo-notebook-buttons\" align=\"left\">\n",
        "  <td>\n",
        "    <a target=\"_blank\" href=\"https://www.tensorflow.org/responsible_ai/model_card_toolkit/examples/Scikit_Learn_Model_Card_Toolkit_Demo\"><img src=\"https://www.tensorflow.org/images/tf_logo_32px.png\" />View on TensorFlow.org</a>\n",
        "  </td>\n",
        "  <td>\n",
        "    <a target=\"_blank\" href=\"https://colab.research.google.com/github/tensorflow/model-card-toolkit/blob/master/model_card_toolkit/documentation/examples/Scikit_Learn_Model_Card_Toolkit_Demo.ipynb\"><img src=\"https://www.tensorflow.org/images/colab_logo_32px.png\" />Run in Google Colab</a>\n",
        "  </td>\n",
        "  <td>\n",
        "    <a target=\"_blank\" href=\"https://github.com/tensorflow/model-card-toolkit/blob/master/model_card_toolkit/documentation/examples/Scikit_Learn_Model_Card_Toolkit_Demo.ipynb\"><img src=\"https://www.tensorflow.org/images/GitHub-Mark-32px.png\" />View on GitHub</a>\n",
        "  </td>\n",
        "  <td>\n",
        "    <a href=\"https://storage.googleapis.com/tensorflow_docs/model-card-toolkit/model_card_toolkit/documentation/examples/Scikit_Learn_Model_Card_Toolkit_Demo.ipynb\"><img src=\"https://www.tensorflow.org/images/download_logo_32px.png\" />Download notebook</a>\n",
        "  </td>\n",
        "</table>"
      ]
    },
    {
      "cell_type": "markdown",
      "metadata": {
        "id": "A5epNF_aiYj0"
      },
      "source": [
        "## Background\n",
        "This notebook demonstrates how to generate a model card using the Model Card Toolkit with a scikit-learn model in a Jupyter/Colab environment. You can learn more about model cards at [https://modelcards.withgoogle.com/about](https://modelcards.withgoogle.com/about).\n",
        "\n",
        "## Setup\n",
        "We first need to install and import the necessary packages.\n",
        "\n",
        "### Upgrade to Pip 20.2 and Install Packages"
      ]
    },
    {
      "cell_type": "code",
      "execution_count": 2,
      "metadata": {
        "id": "1OiOQJDPiYj3",
        "outputId": "6b35bf9d-76f5-463e-abaf-455de096bd30",
        "colab": {
          "base_uri": "https://localhost:8080/"
        }
      },
      "outputs": [
        {
          "output_type": "stream",
          "name": "stdout",
          "text": [
            "Looking in indexes: https://pypi.org/simple, https://us-python.pkg.dev/colab-wheels/public/simple/\n",
            "Requirement already satisfied: pip==21.3 in /usr/local/lib/python3.7/dist-packages (21.3)\n",
            "\u001b[33mWARNING: Running pip as the 'root' user can result in broken permissions and conflicting behaviour with the system package manager. It is recommended to use a virtual environment instead: https://pip.pypa.io/warnings/venv\u001b[0m\n",
            "Looking in indexes: https://pypi.org/simple, https://us-python.pkg.dev/colab-wheels/public/simple/\n",
            "Requirement already satisfied: seaborn in /usr/local/lib/python3.7/dist-packages (0.11.2)\n",
            "Requirement already satisfied: scikit-learn in /usr/local/lib/python3.7/dist-packages (1.0.2)\n",
            "Requirement already satisfied: model-card-toolkit in /usr/local/lib/python3.7/dist-packages (1.3.2)\n",
            "Requirement already satisfied: scipy>=1.0 in /usr/local/lib/python3.7/dist-packages (from seaborn) (1.4.1)\n",
            "Requirement already satisfied: numpy>=1.15 in /usr/local/lib/python3.7/dist-packages (from seaborn) (1.19.5)\n",
            "Requirement already satisfied: pandas>=0.23 in /usr/local/lib/python3.7/dist-packages (from seaborn) (1.3.5)\n",
            "Requirement already satisfied: matplotlib>=2.2 in /usr/local/lib/python3.7/dist-packages (from seaborn) (3.2.2)\n",
            "Requirement already satisfied: joblib>=0.11 in /usr/local/lib/python3.7/dist-packages (from scikit-learn) (0.14.1)\n",
            "Requirement already satisfied: threadpoolctl>=2.0.0 in /usr/local/lib/python3.7/dist-packages (from scikit-learn) (3.1.0)\n",
            "Requirement already satisfied: ml-metadata<1.6.0,>=1.5.0 in /usr/local/lib/python3.7/dist-packages (from model-card-toolkit) (1.5.0)\n",
            "Requirement already satisfied: tensorflow-metadata<1.6.0,>=1.5.0 in /usr/local/lib/python3.7/dist-packages (from model-card-toolkit) (1.5.0)\n",
            "Requirement already satisfied: absl-py<1.1,>=0.9 in /usr/local/lib/python3.7/dist-packages (from model-card-toolkit) (0.12.0)\n",
            "Requirement already satisfied: jsonschema<4,>=3.2.0 in /usr/local/lib/python3.7/dist-packages (from model-card-toolkit) (3.2.0)\n",
            "Requirement already satisfied: tensorflow-model-analysis<0.37.0,>=0.36.0 in /usr/local/lib/python3.7/dist-packages (from model-card-toolkit) (0.36.0)\n",
            "Requirement already satisfied: tfx<1.6.0,>=1.5.0 in /usr/local/lib/python3.7/dist-packages (from model-card-toolkit) (1.5.1)\n",
            "Requirement already satisfied: jinja2<3.2,>=3.1 in /usr/local/lib/python3.7/dist-packages (from model-card-toolkit) (3.1.2)\n",
            "Requirement already satisfied: six in /usr/local/lib/python3.7/dist-packages (from absl-py<1.1,>=0.9->model-card-toolkit) (1.15.0)\n",
            "Requirement already satisfied: MarkupSafe>=2.0 in /usr/local/lib/python3.7/dist-packages (from jinja2<3.2,>=3.1->model-card-toolkit) (2.0.1)\n",
            "Requirement already satisfied: attrs>=17.4.0 in /usr/local/lib/python3.7/dist-packages (from jsonschema<4,>=3.2.0->model-card-toolkit) (20.3.0)\n",
            "Requirement already satisfied: pyrsistent>=0.14.0 in /usr/local/lib/python3.7/dist-packages (from jsonschema<4,>=3.2.0->model-card-toolkit) (0.18.1)\n",
            "Requirement already satisfied: setuptools in /usr/local/lib/python3.7/dist-packages (from jsonschema<4,>=3.2.0->model-card-toolkit) (57.4.0)\n",
            "Requirement already satisfied: importlib-metadata in /usr/local/lib/python3.7/dist-packages (from jsonschema<4,>=3.2.0->model-card-toolkit) (4.11.4)\n",
            "Requirement already satisfied: pyparsing!=2.0.4,!=2.1.2,!=2.1.6,>=2.0.1 in /usr/local/lib/python3.7/dist-packages (from matplotlib>=2.2->seaborn) (3.0.9)\n",
            "Requirement already satisfied: cycler>=0.10 in /usr/local/lib/python3.7/dist-packages (from matplotlib>=2.2->seaborn) (0.11.0)\n",
            "Requirement already satisfied: python-dateutil>=2.1 in /usr/local/lib/python3.7/dist-packages (from matplotlib>=2.2->seaborn) (2.8.2)\n",
            "Requirement already satisfied: kiwisolver>=1.0.1 in /usr/local/lib/python3.7/dist-packages (from matplotlib>=2.2->seaborn) (1.4.3)\n",
            "Requirement already satisfied: grpcio<2,>=1.8.6 in /usr/local/lib/python3.7/dist-packages (from ml-metadata<1.6.0,>=1.5.0->model-card-toolkit) (1.46.3)\n",
            "Requirement already satisfied: protobuf<4,>=3.13 in /usr/local/lib/python3.7/dist-packages (from ml-metadata<1.6.0,>=1.5.0->model-card-toolkit) (3.19.4)\n",
            "Requirement already satisfied: pytz>=2017.3 in /usr/local/lib/python3.7/dist-packages (from pandas>=0.23->seaborn) (2022.1)\n",
            "Requirement already satisfied: googleapis-common-protos<2,>=1.52.0 in /usr/local/lib/python3.7/dist-packages (from tensorflow-metadata<1.6.0,>=1.5.0->model-card-toolkit) (1.56.2)\n",
            "Requirement already satisfied: apache-beam[gcp]<3,>=2.34 in /usr/local/lib/python3.7/dist-packages (from tensorflow-model-analysis<0.37.0,>=0.36.0->model-card-toolkit) (2.39.0)\n",
            "Requirement already satisfied: ipython<8,>=7 in /usr/local/lib/python3.7/dist-packages (from tensorflow-model-analysis<0.37.0,>=0.36.0->model-card-toolkit) (7.34.0)\n",
            "Requirement already satisfied: pyarrow<6,>=1 in /usr/local/lib/python3.7/dist-packages (from tensorflow-model-analysis<0.37.0,>=0.36.0->model-card-toolkit) (5.0.0)\n",
            "Requirement already satisfied: tfx-bsl<1.6.0,>=1.5.0 in /usr/local/lib/python3.7/dist-packages (from tensorflow-model-analysis<0.37.0,>=0.36.0->model-card-toolkit) (1.5.0)\n",
            "Requirement already satisfied: tensorflow!=2.0.*,!=2.1.*,!=2.2.*,!=2.3.*,!=2.4.*,!=2.5.*,!=2.6.*,<3,>=1.15.2 in /usr/local/lib/python3.7/dist-packages (from tensorflow-model-analysis<0.37.0,>=0.36.0->model-card-toolkit) (2.7.3+zzzcolab20220523111007)\n",
            "Requirement already satisfied: ipywidgets<8,>=7 in /usr/local/lib/python3.7/dist-packages (from tensorflow-model-analysis<0.37.0,>=0.36.0->model-card-toolkit) (7.7.0)\n",
            "Requirement already satisfied: tensorflow-hub<0.13,>=0.9.0 in /usr/local/lib/python3.7/dist-packages (from tfx<1.6.0,>=1.5.0->model-card-toolkit) (0.12.0)\n",
            "Requirement already satisfied: google-cloud-aiplatform<2,>=1.5.0 in /usr/local/lib/python3.7/dist-packages (from tfx<1.6.0,>=1.5.0->model-card-toolkit) (1.14.0)\n",
            "Requirement already satisfied: tensorflow-data-validation<1.6.0,>=1.5.0 in /usr/local/lib/python3.7/dist-packages (from tfx<1.6.0,>=1.5.0->model-card-toolkit) (1.5.0)\n",
            "Requirement already satisfied: pyyaml<6,>=3.12 in /usr/local/lib/python3.7/dist-packages (from tfx<1.6.0,>=1.5.0->model-card-toolkit) (3.13)\n",
            "Requirement already satisfied: ml-pipelines-sdk==1.5.1 in /usr/local/lib/python3.7/dist-packages (from tfx<1.6.0,>=1.5.0->model-card-toolkit) (1.5.1)\n",
            "Requirement already satisfied: click<8,>=7 in /usr/local/lib/python3.7/dist-packages (from tfx<1.6.0,>=1.5.0->model-card-toolkit) (7.1.2)\n",
            "Requirement already satisfied: keras-tuner<2,>=1.0.4 in /usr/local/lib/python3.7/dist-packages (from tfx<1.6.0,>=1.5.0->model-card-toolkit) (1.1.2)\n",
            "Requirement already satisfied: tensorflow-serving-api!=2.0.*,!=2.1.*,!=2.2.*,!=2.3.*,!=2.4.*,!=2.5.*,!=2.6.*,<3,>=1.15 in /usr/local/lib/python3.7/dist-packages (from tfx<1.6.0,>=1.5.0->model-card-toolkit) (2.7.0)\n",
            "Requirement already satisfied: google-api-python-client<2,>=1.8 in /usr/local/lib/python3.7/dist-packages (from tfx<1.6.0,>=1.5.0->model-card-toolkit) (1.12.11)\n",
            "Requirement already satisfied: tensorflow-transform<1.6.0,>=1.5.0 in /usr/local/lib/python3.7/dist-packages (from tfx<1.6.0,>=1.5.0->model-card-toolkit) (1.5.0)\n",
            "Requirement already satisfied: google-cloud-bigquery<3,>=2.26.0 in /usr/local/lib/python3.7/dist-packages (from tfx<1.6.0,>=1.5.0->model-card-toolkit) (2.34.4)\n",
            "Requirement already satisfied: packaging<21,>=20 in /usr/local/lib/python3.7/dist-packages (from tfx<1.6.0,>=1.5.0->model-card-toolkit) (20.9)\n",
            "Requirement already satisfied: google-apitools<1,>=0.5 in /usr/local/lib/python3.7/dist-packages (from tfx<1.6.0,>=1.5.0->model-card-toolkit) (0.5.31)\n",
            "Requirement already satisfied: kubernetes<13,>=10.0.1 in /usr/local/lib/python3.7/dist-packages (from tfx<1.6.0,>=1.5.0->model-card-toolkit) (12.0.1)\n",
            "Requirement already satisfied: portpicker<2,>=1.3.1 in /usr/local/lib/python3.7/dist-packages (from tfx<1.6.0,>=1.5.0->model-card-toolkit) (1.3.9)\n",
            "Requirement already satisfied: docker<5,>=4.1 in /usr/local/lib/python3.7/dist-packages (from tfx<1.6.0,>=1.5.0->model-card-toolkit) (4.4.4)\n",
            "Requirement already satisfied: httplib2<0.20.0,>=0.8 in /usr/local/lib/python3.7/dist-packages (from apache-beam[gcp]<3,>=2.34->tensorflow-model-analysis<0.37.0,>=0.36.0->model-card-toolkit) (0.17.4)\n",
            "Requirement already satisfied: hdfs<3.0.0,>=2.1.0 in /usr/local/lib/python3.7/dist-packages (from apache-beam[gcp]<3,>=2.34->tensorflow-model-analysis<0.37.0,>=0.36.0->model-card-toolkit) (2.7.0)\n",
            "Requirement already satisfied: pydot<2,>=1.2.0 in /usr/local/lib/python3.7/dist-packages (from apache-beam[gcp]<3,>=2.34->tensorflow-model-analysis<0.37.0,>=0.36.0->model-card-toolkit) (1.3.0)\n",
            "Requirement already satisfied: proto-plus<2,>=1.7.1 in /usr/local/lib/python3.7/dist-packages (from apache-beam[gcp]<3,>=2.34->tensorflow-model-analysis<0.37.0,>=0.36.0->model-card-toolkit) (1.20.6)\n",
            "Requirement already satisfied: typing-extensions>=3.7.0 in /usr/local/lib/python3.7/dist-packages (from apache-beam[gcp]<3,>=2.34->tensorflow-model-analysis<0.37.0,>=0.36.0->model-card-toolkit) (4.1.1)\n",
            "Requirement already satisfied: crcmod<2.0,>=1.7 in /usr/local/lib/python3.7/dist-packages (from apache-beam[gcp]<3,>=2.34->tensorflow-model-analysis<0.37.0,>=0.36.0->model-card-toolkit) (1.7)\n",
            "Requirement already satisfied: pymongo<4.0.0,>=3.8.0 in /usr/local/lib/python3.7/dist-packages (from apache-beam[gcp]<3,>=2.34->tensorflow-model-analysis<0.37.0,>=0.36.0->model-card-toolkit) (3.12.3)\n",
            "Requirement already satisfied: dill<0.3.2,>=0.3.1.1 in /usr/local/lib/python3.7/dist-packages (from apache-beam[gcp]<3,>=2.34->tensorflow-model-analysis<0.37.0,>=0.36.0->model-card-toolkit) (0.3.1.1)\n",
            "Requirement already satisfied: fastavro<2,>=0.23.6 in /usr/local/lib/python3.7/dist-packages (from apache-beam[gcp]<3,>=2.34->tensorflow-model-analysis<0.37.0,>=0.36.0->model-card-toolkit) (1.5.1)\n",
            "Requirement already satisfied: cloudpickle<3,>=2.0.0 in /usr/local/lib/python3.7/dist-packages (from apache-beam[gcp]<3,>=2.34->tensorflow-model-analysis<0.37.0,>=0.36.0->model-card-toolkit) (2.1.0)\n",
            "Requirement already satisfied: requests<3.0.0,>=2.24.0 in /usr/local/lib/python3.7/dist-packages (from apache-beam[gcp]<3,>=2.34->tensorflow-model-analysis<0.37.0,>=0.36.0->model-card-toolkit) (2.28.0)\n",
            "Requirement already satisfied: orjson<4.0 in /usr/local/lib/python3.7/dist-packages (from apache-beam[gcp]<3,>=2.34->tensorflow-model-analysis<0.37.0,>=0.36.0->model-card-toolkit) (3.7.2)\n",
            "Requirement already satisfied: google-cloud-bigquery-storage>=2.6.3 in /usr/local/lib/python3.7/dist-packages (from apache-beam[gcp]<3,>=2.34->tensorflow-model-analysis<0.37.0,>=0.36.0->model-card-toolkit) (2.13.2)\n",
            "Requirement already satisfied: google-cloud-vision<2,>=0.38.0 in /usr/local/lib/python3.7/dist-packages (from apache-beam[gcp]<3,>=2.34->tensorflow-model-analysis<0.37.0,>=0.36.0->model-card-toolkit) (1.0.2)\n",
            "Requirement already satisfied: google-cloud-core<2,>=0.28.1 in /usr/local/lib/python3.7/dist-packages (from apache-beam[gcp]<3,>=2.34->tensorflow-model-analysis<0.37.0,>=0.36.0->model-card-toolkit) (1.7.2)\n",
            "Requirement already satisfied: google-auth-httplib2<0.2.0,>=0.1.0 in /usr/local/lib/python3.7/dist-packages (from apache-beam[gcp]<3,>=2.34->tensorflow-model-analysis<0.37.0,>=0.36.0->model-card-toolkit) (0.1.0)\n",
            "Requirement already satisfied: google-cloud-pubsublite<2,>=1.2.0 in /usr/local/lib/python3.7/dist-packages (from apache-beam[gcp]<3,>=2.34->tensorflow-model-analysis<0.37.0,>=0.36.0->model-card-toolkit) (1.4.2)\n",
            "Requirement already satisfied: google-cloud-videointelligence<2,>=1.8.0 in /usr/local/lib/python3.7/dist-packages (from apache-beam[gcp]<3,>=2.34->tensorflow-model-analysis<0.37.0,>=0.36.0->model-card-toolkit) (1.16.3)\n",
            "Requirement already satisfied: google-cloud-datastore<2,>=1.8.0 in /usr/local/lib/python3.7/dist-packages (from apache-beam[gcp]<3,>=2.34->tensorflow-model-analysis<0.37.0,>=0.36.0->model-card-toolkit) (1.8.0)\n",
            "Requirement already satisfied: google-auth<3,>=1.18.0 in /usr/local/lib/python3.7/dist-packages (from apache-beam[gcp]<3,>=2.34->tensorflow-model-analysis<0.37.0,>=0.36.0->model-card-toolkit) (1.35.0)\n",
            "Requirement already satisfied: google-cloud-pubsub<3,>=2.1.0 in /usr/local/lib/python3.7/dist-packages (from apache-beam[gcp]<3,>=2.34->tensorflow-model-analysis<0.37.0,>=0.36.0->model-card-toolkit) (2.13.0)\n",
            "Requirement already satisfied: google-cloud-recommendations-ai<=0.2.0,>=0.1.0 in /usr/local/lib/python3.7/dist-packages (from apache-beam[gcp]<3,>=2.34->tensorflow-model-analysis<0.37.0,>=0.36.0->model-card-toolkit) (0.2.0)\n",
            "Requirement already satisfied: cachetools<5,>=3.1.0 in /usr/local/lib/python3.7/dist-packages (from apache-beam[gcp]<3,>=2.34->tensorflow-model-analysis<0.37.0,>=0.36.0->model-card-toolkit) (4.2.4)\n",
            "Requirement already satisfied: google-cloud-spanner<2,>=1.13.0 in /usr/local/lib/python3.7/dist-packages (from apache-beam[gcp]<3,>=2.34->tensorflow-model-analysis<0.37.0,>=0.36.0->model-card-toolkit) (1.19.3)\n",
            "Requirement already satisfied: grpcio-gcp<1,>=0.2.2 in /usr/local/lib/python3.7/dist-packages (from apache-beam[gcp]<3,>=2.34->tensorflow-model-analysis<0.37.0,>=0.36.0->model-card-toolkit) (0.2.2)\n",
            "Requirement already satisfied: google-cloud-dlp<4,>=3.0.0 in /usr/local/lib/python3.7/dist-packages (from apache-beam[gcp]<3,>=2.34->tensorflow-model-analysis<0.37.0,>=0.36.0->model-card-toolkit) (3.7.1)\n",
            "Requirement already satisfied: google-cloud-language<2,>=1.3.0 in /usr/local/lib/python3.7/dist-packages (from apache-beam[gcp]<3,>=2.34->tensorflow-model-analysis<0.37.0,>=0.36.0->model-card-toolkit) (1.3.2)\n",
            "Requirement already satisfied: google-cloud-bigtable<2,>=0.31.1 in /usr/local/lib/python3.7/dist-packages (from apache-beam[gcp]<3,>=2.34->tensorflow-model-analysis<0.37.0,>=0.36.0->model-card-toolkit) (1.7.2)\n",
            "Requirement already satisfied: websocket-client>=0.32.0 in /usr/local/lib/python3.7/dist-packages (from docker<5,>=4.1->tfx<1.6.0,>=1.5.0->model-card-toolkit) (1.3.2)\n",
            "Requirement already satisfied: uritemplate<4dev,>=3.0.0 in /usr/local/lib/python3.7/dist-packages (from google-api-python-client<2,>=1.8->tfx<1.6.0,>=1.5.0->model-card-toolkit) (3.0.1)\n",
            "Requirement already satisfied: google-api-core<3dev,>=1.21.0 in /usr/local/lib/python3.7/dist-packages (from google-api-python-client<2,>=1.8->tfx<1.6.0,>=1.5.0->model-card-toolkit) (1.31.6)\n",
            "Requirement already satisfied: oauth2client>=1.4.12 in /usr/local/lib/python3.7/dist-packages (from google-apitools<1,>=0.5->tfx<1.6.0,>=1.5.0->model-card-toolkit) (4.1.3)\n",
            "Requirement already satisfied: fasteners>=0.14 in /usr/local/lib/python3.7/dist-packages (from google-apitools<1,>=0.5->tfx<1.6.0,>=1.5.0->model-card-toolkit) (0.17.3)\n",
            "Requirement already satisfied: google-cloud-storage<3.0.0dev,>=1.32.0 in /usr/local/lib/python3.7/dist-packages (from google-cloud-aiplatform<2,>=1.5.0->tfx<1.6.0,>=1.5.0->model-card-toolkit) (2.2.1)\n",
            "Requirement already satisfied: google-cloud-resource-manager<3.0.0dev,>=1.3.3 in /usr/local/lib/python3.7/dist-packages (from google-cloud-aiplatform<2,>=1.5.0->tfx<1.6.0,>=1.5.0->model-card-toolkit) (1.5.1)\n",
            "Requirement already satisfied: google-resumable-media<3.0dev,>=0.6.0 in /usr/local/lib/python3.7/dist-packages (from google-cloud-bigquery<3,>=2.26.0->tfx<1.6.0,>=1.5.0->model-card-toolkit) (2.3.3)\n",
            "Requirement already satisfied: pygments in /usr/local/lib/python3.7/dist-packages (from ipython<8,>=7->tensorflow-model-analysis<0.37.0,>=0.36.0->model-card-toolkit) (2.6.1)\n",
            "Requirement already satisfied: pickleshare in /usr/local/lib/python3.7/dist-packages (from ipython<8,>=7->tensorflow-model-analysis<0.37.0,>=0.36.0->model-card-toolkit) (0.7.5)\n",
            "Requirement already satisfied: jedi>=0.16 in /usr/local/lib/python3.7/dist-packages (from ipython<8,>=7->tensorflow-model-analysis<0.37.0,>=0.36.0->model-card-toolkit) (0.18.1)\n",
            "Requirement already satisfied: pexpect>4.3 in /usr/local/lib/python3.7/dist-packages (from ipython<8,>=7->tensorflow-model-analysis<0.37.0,>=0.36.0->model-card-toolkit) (4.8.0)\n",
            "Requirement already satisfied: decorator in /usr/local/lib/python3.7/dist-packages (from ipython<8,>=7->tensorflow-model-analysis<0.37.0,>=0.36.0->model-card-toolkit) (4.4.2)\n",
            "Requirement already satisfied: prompt-toolkit!=3.0.0,!=3.0.1,<3.1.0,>=2.0.0 in /usr/local/lib/python3.7/dist-packages (from ipython<8,>=7->tensorflow-model-analysis<0.37.0,>=0.36.0->model-card-toolkit) (3.0.29)\n",
            "Requirement already satisfied: traitlets>=4.2 in /usr/local/lib/python3.7/dist-packages (from ipython<8,>=7->tensorflow-model-analysis<0.37.0,>=0.36.0->model-card-toolkit) (5.1.1)\n",
            "Requirement already satisfied: matplotlib-inline in /usr/local/lib/python3.7/dist-packages (from ipython<8,>=7->tensorflow-model-analysis<0.37.0,>=0.36.0->model-card-toolkit) (0.1.3)\n",
            "Requirement already satisfied: backcall in /usr/local/lib/python3.7/dist-packages (from ipython<8,>=7->tensorflow-model-analysis<0.37.0,>=0.36.0->model-card-toolkit) (0.2.0)\n",
            "Requirement already satisfied: ipython-genutils~=0.2.0 in /usr/local/lib/python3.7/dist-packages (from ipywidgets<8,>=7->tensorflow-model-analysis<0.37.0,>=0.36.0->model-card-toolkit) (0.2.0)\n",
            "Requirement already satisfied: jupyterlab-widgets>=1.0.0 in /usr/local/lib/python3.7/dist-packages (from ipywidgets<8,>=7->tensorflow-model-analysis<0.37.0,>=0.36.0->model-card-toolkit) (1.1.0)\n",
            "Requirement already satisfied: nbformat>=4.2.0 in /usr/local/lib/python3.7/dist-packages (from ipywidgets<8,>=7->tensorflow-model-analysis<0.37.0,>=0.36.0->model-card-toolkit) (5.4.0)\n",
            "Requirement already satisfied: ipykernel>=4.5.1 in /usr/local/lib/python3.7/dist-packages (from ipywidgets<8,>=7->tensorflow-model-analysis<0.37.0,>=0.36.0->model-card-toolkit) (4.10.1)\n",
            "Requirement already satisfied: widgetsnbextension~=3.6.0 in /usr/local/lib/python3.7/dist-packages (from ipywidgets<8,>=7->tensorflow-model-analysis<0.37.0,>=0.36.0->model-card-toolkit) (3.6.0)\n",
            "Requirement already satisfied: tensorboard in /usr/local/lib/python3.7/dist-packages (from keras-tuner<2,>=1.0.4->tfx<1.6.0,>=1.5.0->model-card-toolkit) (2.8.0)\n",
            "Requirement already satisfied: kt-legacy in /usr/local/lib/python3.7/dist-packages (from keras-tuner<2,>=1.0.4->tfx<1.6.0,>=1.5.0->model-card-toolkit) (1.0.4)\n",
            "Requirement already satisfied: urllib3>=1.24.2 in /usr/local/lib/python3.7/dist-packages (from kubernetes<13,>=10.0.1->tfx<1.6.0,>=1.5.0->model-card-toolkit) (1.24.3)\n",
            "Requirement already satisfied: certifi>=14.05.14 in /usr/local/lib/python3.7/dist-packages (from kubernetes<13,>=10.0.1->tfx<1.6.0,>=1.5.0->model-card-toolkit) (2022.6.15)\n",
            "Requirement already satisfied: requests-oauthlib in /usr/local/lib/python3.7/dist-packages (from kubernetes<13,>=10.0.1->tfx<1.6.0,>=1.5.0->model-card-toolkit) (1.3.1)\n",
            "Requirement already satisfied: opt-einsum>=2.3.2 in /usr/local/lib/python3.7/dist-packages (from tensorflow!=2.0.*,!=2.1.*,!=2.2.*,!=2.3.*,!=2.4.*,!=2.5.*,!=2.6.*,<3,>=1.15.2->tensorflow-model-analysis<0.37.0,>=0.36.0->model-card-toolkit) (3.3.0)\n",
            "Requirement already satisfied: keras-preprocessing>=1.1.1 in /usr/local/lib/python3.7/dist-packages (from tensorflow!=2.0.*,!=2.1.*,!=2.2.*,!=2.3.*,!=2.4.*,!=2.5.*,!=2.6.*,<3,>=1.15.2->tensorflow-model-analysis<0.37.0,>=0.36.0->model-card-toolkit) (1.1.2)\n",
            "Requirement already satisfied: astunparse>=1.6.0 in /usr/local/lib/python3.7/dist-packages (from tensorflow!=2.0.*,!=2.1.*,!=2.2.*,!=2.3.*,!=2.4.*,!=2.5.*,!=2.6.*,<3,>=1.15.2->tensorflow-model-analysis<0.37.0,>=0.36.0->model-card-toolkit) (1.6.3)\n",
            "Requirement already satisfied: tensorflow-estimator<2.8,~=2.7.0rc0 in /usr/local/lib/python3.7/dist-packages (from tensorflow!=2.0.*,!=2.1.*,!=2.2.*,!=2.3.*,!=2.4.*,!=2.5.*,!=2.6.*,<3,>=1.15.2->tensorflow-model-analysis<0.37.0,>=0.36.0->model-card-toolkit) (2.7.0)\n",
            "Requirement already satisfied: h5py>=2.9.0 in /usr/local/lib/python3.7/dist-packages (from tensorflow!=2.0.*,!=2.1.*,!=2.2.*,!=2.3.*,!=2.4.*,!=2.5.*,!=2.6.*,<3,>=1.15.2->tensorflow-model-analysis<0.37.0,>=0.36.0->model-card-toolkit) (3.1.0)\n",
            "Requirement already satisfied: tensorflow-io-gcs-filesystem>=0.21.0 in /usr/local/lib/python3.7/dist-packages (from tensorflow!=2.0.*,!=2.1.*,!=2.2.*,!=2.3.*,!=2.4.*,!=2.5.*,!=2.6.*,<3,>=1.15.2->tensorflow-model-analysis<0.37.0,>=0.36.0->model-card-toolkit) (0.26.0)\n",
            "Requirement already satisfied: google-pasta>=0.1.1 in /usr/local/lib/python3.7/dist-packages (from tensorflow!=2.0.*,!=2.1.*,!=2.2.*,!=2.3.*,!=2.4.*,!=2.5.*,!=2.6.*,<3,>=1.15.2->tensorflow-model-analysis<0.37.0,>=0.36.0->model-card-toolkit) (0.2.0)\n",
            "Requirement already satisfied: wheel<1.0,>=0.32.0 in /usr/local/lib/python3.7/dist-packages (from tensorflow!=2.0.*,!=2.1.*,!=2.2.*,!=2.3.*,!=2.4.*,!=2.5.*,!=2.6.*,<3,>=1.15.2->tensorflow-model-analysis<0.37.0,>=0.36.0->model-card-toolkit) (0.37.1)\n",
            "Requirement already satisfied: termcolor>=1.1.0 in /usr/local/lib/python3.7/dist-packages (from tensorflow!=2.0.*,!=2.1.*,!=2.2.*,!=2.3.*,!=2.4.*,!=2.5.*,!=2.6.*,<3,>=1.15.2->tensorflow-model-analysis<0.37.0,>=0.36.0->model-card-toolkit) (1.1.0)\n",
            "Requirement already satisfied: flatbuffers<3.0,>=1.12 in /usr/local/lib/python3.7/dist-packages (from tensorflow!=2.0.*,!=2.1.*,!=2.2.*,!=2.3.*,!=2.4.*,!=2.5.*,!=2.6.*,<3,>=1.15.2->tensorflow-model-analysis<0.37.0,>=0.36.0->model-card-toolkit) (2.0)\n",
            "Requirement already satisfied: wrapt>=1.11.0 in /usr/local/lib/python3.7/dist-packages (from tensorflow!=2.0.*,!=2.1.*,!=2.2.*,!=2.3.*,!=2.4.*,!=2.5.*,!=2.6.*,<3,>=1.15.2->tensorflow-model-analysis<0.37.0,>=0.36.0->model-card-toolkit) (1.14.1)\n",
            "Requirement already satisfied: gast<0.5.0,>=0.2.1 in /usr/local/lib/python3.7/dist-packages (from tensorflow!=2.0.*,!=2.1.*,!=2.2.*,!=2.3.*,!=2.4.*,!=2.5.*,!=2.6.*,<3,>=1.15.2->tensorflow-model-analysis<0.37.0,>=0.36.0->model-card-toolkit) (0.4.0)\n",
            "Requirement already satisfied: keras<2.8,>=2.7.0rc0 in /usr/local/lib/python3.7/dist-packages (from tensorflow!=2.0.*,!=2.1.*,!=2.2.*,!=2.3.*,!=2.4.*,!=2.5.*,!=2.6.*,<3,>=1.15.2->tensorflow-model-analysis<0.37.0,>=0.36.0->model-card-toolkit) (2.7.0)\n",
            "Requirement already satisfied: libclang>=9.0.1 in /usr/local/lib/python3.7/dist-packages (from tensorflow!=2.0.*,!=2.1.*,!=2.2.*,!=2.3.*,!=2.4.*,!=2.5.*,!=2.6.*,<3,>=1.15.2->tensorflow-model-analysis<0.37.0,>=0.36.0->model-card-toolkit) (14.0.1)\n",
            "Requirement already satisfied: zipp>=0.5 in /usr/local/lib/python3.7/dist-packages (from importlib-metadata->jsonschema<4,>=3.2.0->model-card-toolkit) (3.8.0)\n",
            "Requirement already satisfied: pyasn1-modules>=0.2.1 in /usr/local/lib/python3.7/dist-packages (from google-auth<3,>=1.18.0->apache-beam[gcp]<3,>=2.34->tensorflow-model-analysis<0.37.0,>=0.36.0->model-card-toolkit) (0.2.8)\n",
            "Requirement already satisfied: rsa<5,>=3.1.4 in /usr/local/lib/python3.7/dist-packages (from google-auth<3,>=1.18.0->apache-beam[gcp]<3,>=2.34->tensorflow-model-analysis<0.37.0,>=0.36.0->model-card-toolkit) (4.8)\n",
            "Requirement already satisfied: grpc-google-iam-v1<0.13dev,>=0.12.3 in /usr/local/lib/python3.7/dist-packages (from google-cloud-bigtable<2,>=0.31.1->apache-beam[gcp]<3,>=2.34->tensorflow-model-analysis<0.37.0,>=0.36.0->model-card-toolkit) (0.12.4)\n",
            "Requirement already satisfied: grpcio-status>=1.16.0 in /usr/local/lib/python3.7/dist-packages (from google-cloud-pubsub<3,>=2.1.0->apache-beam[gcp]<3,>=2.34->tensorflow-model-analysis<0.37.0,>=0.36.0->model-card-toolkit) (1.46.3)\n",
            "Requirement already satisfied: overrides<7.0.0,>=6.0.1 in /usr/local/lib/python3.7/dist-packages (from google-cloud-pubsublite<2,>=1.2.0->apache-beam[gcp]<3,>=2.34->tensorflow-model-analysis<0.37.0,>=0.36.0->model-card-toolkit) (6.1.0)\n",
            "Requirement already satisfied: google-crc32c<2.0dev,>=1.0 in /usr/local/lib/python3.7/dist-packages (from google-resumable-media<3.0dev,>=0.6.0->google-cloud-bigquery<3,>=2.26.0->tfx<1.6.0,>=1.5.0->model-card-toolkit) (1.3.0)\n",
            "Requirement already satisfied: cached-property in /usr/local/lib/python3.7/dist-packages (from h5py>=2.9.0->tensorflow!=2.0.*,!=2.1.*,!=2.2.*,!=2.3.*,!=2.4.*,!=2.5.*,!=2.6.*,<3,>=1.15.2->tensorflow-model-analysis<0.37.0,>=0.36.0->model-card-toolkit) (1.5.2)\n",
            "Requirement already satisfied: docopt in /usr/local/lib/python3.7/dist-packages (from hdfs<3.0.0,>=2.1.0->apache-beam[gcp]<3,>=2.34->tensorflow-model-analysis<0.37.0,>=0.36.0->model-card-toolkit) (0.6.2)\n",
            "Requirement already satisfied: tornado>=4.0 in /usr/local/lib/python3.7/dist-packages (from ipykernel>=4.5.1->ipywidgets<8,>=7->tensorflow-model-analysis<0.37.0,>=0.36.0->model-card-toolkit) (5.1.1)\n",
            "Requirement already satisfied: jupyter-client in /usr/local/lib/python3.7/dist-packages (from ipykernel>=4.5.1->ipywidgets<8,>=7->tensorflow-model-analysis<0.37.0,>=0.36.0->model-card-toolkit) (5.3.5)\n",
            "Requirement already satisfied: parso<0.9.0,>=0.8.0 in /usr/local/lib/python3.7/dist-packages (from jedi>=0.16->ipython<8,>=7->tensorflow-model-analysis<0.37.0,>=0.36.0->model-card-toolkit) (0.8.3)\n",
            "Requirement already satisfied: fastjsonschema in /usr/local/lib/python3.7/dist-packages (from nbformat>=4.2.0->ipywidgets<8,>=7->tensorflow-model-analysis<0.37.0,>=0.36.0->model-card-toolkit) (2.15.3)\n",
            "Requirement already satisfied: jupyter-core in /usr/local/lib/python3.7/dist-packages (from nbformat>=4.2.0->ipywidgets<8,>=7->tensorflow-model-analysis<0.37.0,>=0.36.0->model-card-toolkit) (4.10.0)\n",
            "Requirement already satisfied: pyasn1>=0.1.7 in /usr/local/lib/python3.7/dist-packages (from oauth2client>=1.4.12->google-apitools<1,>=0.5->tfx<1.6.0,>=1.5.0->model-card-toolkit) (0.4.8)\n",
            "Requirement already satisfied: ptyprocess>=0.5 in /usr/local/lib/python3.7/dist-packages (from pexpect>4.3->ipython<8,>=7->tensorflow-model-analysis<0.37.0,>=0.36.0->model-card-toolkit) (0.7.0)\n",
            "Requirement already satisfied: wcwidth in /usr/local/lib/python3.7/dist-packages (from prompt-toolkit!=3.0.0,!=3.0.1,<3.1.0,>=2.0.0->ipython<8,>=7->tensorflow-model-analysis<0.37.0,>=0.36.0->model-card-toolkit) (0.2.5)\n",
            "Requirement already satisfied: charset-normalizer~=2.0.0 in /usr/local/lib/python3.7/dist-packages (from requests<3.0.0,>=2.24.0->apache-beam[gcp]<3,>=2.34->tensorflow-model-analysis<0.37.0,>=0.36.0->model-card-toolkit) (2.0.12)\n",
            "Requirement already satisfied: idna<4,>=2.5 in /usr/local/lib/python3.7/dist-packages (from requests<3.0.0,>=2.24.0->apache-beam[gcp]<3,>=2.34->tensorflow-model-analysis<0.37.0,>=0.36.0->model-card-toolkit) (2.10)\n",
            "Requirement already satisfied: tensorboard-plugin-wit>=1.6.0 in /usr/local/lib/python3.7/dist-packages (from tensorboard->keras-tuner<2,>=1.0.4->tfx<1.6.0,>=1.5.0->model-card-toolkit) (1.8.1)\n",
            "Requirement already satisfied: tensorboard-data-server<0.7.0,>=0.6.0 in /usr/local/lib/python3.7/dist-packages (from tensorboard->keras-tuner<2,>=1.0.4->tfx<1.6.0,>=1.5.0->model-card-toolkit) (0.6.1)\n",
            "Requirement already satisfied: werkzeug>=0.11.15 in /usr/local/lib/python3.7/dist-packages (from tensorboard->keras-tuner<2,>=1.0.4->tfx<1.6.0,>=1.5.0->model-card-toolkit) (1.0.1)\n",
            "Requirement already satisfied: markdown>=2.6.8 in /usr/local/lib/python3.7/dist-packages (from tensorboard->keras-tuner<2,>=1.0.4->tfx<1.6.0,>=1.5.0->model-card-toolkit) (3.3.7)\n",
            "Requirement already satisfied: google-auth-oauthlib<0.5,>=0.4.1 in /usr/local/lib/python3.7/dist-packages (from tensorboard->keras-tuner<2,>=1.0.4->tfx<1.6.0,>=1.5.0->model-card-toolkit) (0.4.6)\n",
            "Requirement already satisfied: notebook>=4.4.1 in /usr/local/lib/python3.7/dist-packages (from widgetsnbextension~=3.6.0->ipywidgets<8,>=7->tensorflow-model-analysis<0.37.0,>=0.36.0->model-card-toolkit) (5.3.1)\n",
            "Requirement already satisfied: oauthlib>=3.0.0 in /usr/local/lib/python3.7/dist-packages (from requests-oauthlib->kubernetes<13,>=10.0.1->tfx<1.6.0,>=1.5.0->model-card-toolkit) (3.2.0)\n",
            "Requirement already satisfied: terminado>=0.8.1 in /usr/local/lib/python3.7/dist-packages (from notebook>=4.4.1->widgetsnbextension~=3.6.0->ipywidgets<8,>=7->tensorflow-model-analysis<0.37.0,>=0.36.0->model-card-toolkit) (0.13.3)\n",
            "Requirement already satisfied: Send2Trash in /usr/local/lib/python3.7/dist-packages (from notebook>=4.4.1->widgetsnbextension~=3.6.0->ipywidgets<8,>=7->tensorflow-model-analysis<0.37.0,>=0.36.0->model-card-toolkit) (1.8.0)\n",
            "Requirement already satisfied: nbconvert in /usr/local/lib/python3.7/dist-packages (from notebook>=4.4.1->widgetsnbextension~=3.6.0->ipywidgets<8,>=7->tensorflow-model-analysis<0.37.0,>=0.36.0->model-card-toolkit) (5.6.1)\n",
            "Requirement already satisfied: pyzmq>=13 in /usr/local/lib/python3.7/dist-packages (from jupyter-client->ipykernel>=4.5.1->ipywidgets<8,>=7->tensorflow-model-analysis<0.37.0,>=0.36.0->model-card-toolkit) (23.1.0)\n",
            "Requirement already satisfied: typing-utils>=0.0.3 in /usr/local/lib/python3.7/dist-packages (from overrides<7.0.0,>=6.0.1->google-cloud-pubsublite<2,>=1.2.0->apache-beam[gcp]<3,>=2.34->tensorflow-model-analysis<0.37.0,>=0.36.0->model-card-toolkit) (0.1.0)\n",
            "Requirement already satisfied: entrypoints>=0.2.2 in /usr/local/lib/python3.7/dist-packages (from nbconvert->notebook>=4.4.1->widgetsnbextension~=3.6.0->ipywidgets<8,>=7->tensorflow-model-analysis<0.37.0,>=0.36.0->model-card-toolkit) (0.4)\n",
            "Requirement already satisfied: testpath in /usr/local/lib/python3.7/dist-packages (from nbconvert->notebook>=4.4.1->widgetsnbextension~=3.6.0->ipywidgets<8,>=7->tensorflow-model-analysis<0.37.0,>=0.36.0->model-card-toolkit) (0.6.0)\n",
            "Requirement already satisfied: pandocfilters>=1.4.1 in /usr/local/lib/python3.7/dist-packages (from nbconvert->notebook>=4.4.1->widgetsnbextension~=3.6.0->ipywidgets<8,>=7->tensorflow-model-analysis<0.37.0,>=0.36.0->model-card-toolkit) (1.5.0)\n",
            "Requirement already satisfied: bleach in /usr/local/lib/python3.7/dist-packages (from nbconvert->notebook>=4.4.1->widgetsnbextension~=3.6.0->ipywidgets<8,>=7->tensorflow-model-analysis<0.37.0,>=0.36.0->model-card-toolkit) (5.0.0)\n",
            "Requirement already satisfied: defusedxml in /usr/local/lib/python3.7/dist-packages (from nbconvert->notebook>=4.4.1->widgetsnbextension~=3.6.0->ipywidgets<8,>=7->tensorflow-model-analysis<0.37.0,>=0.36.0->model-card-toolkit) (0.7.1)\n",
            "Requirement already satisfied: mistune<2,>=0.8.1 in /usr/local/lib/python3.7/dist-packages (from nbconvert->notebook>=4.4.1->widgetsnbextension~=3.6.0->ipywidgets<8,>=7->tensorflow-model-analysis<0.37.0,>=0.36.0->model-card-toolkit) (0.8.4)\n",
            "Requirement already satisfied: webencodings in /usr/local/lib/python3.7/dist-packages (from bleach->nbconvert->notebook>=4.4.1->widgetsnbextension~=3.6.0->ipywidgets<8,>=7->tensorflow-model-analysis<0.37.0,>=0.36.0->model-card-toolkit) (0.5.1)\n",
            "\u001b[33mWARNING: Running pip as the 'root' user can result in broken permissions and conflicting behaviour with the system package manager. It is recommended to use a virtual environment instead: https://pip.pypa.io/warnings/venv\u001b[0m\n"
          ]
        }
      ],
      "source": [
        "!pip install --upgrade pip==21.3\n",
        "!pip install -U seaborn scikit-learn model-card-toolkit"
      ]
    },
    {
      "cell_type": "markdown",
      "metadata": {
        "id": "JpcNkrmLiYj7"
      },
      "source": [
        "### Did you restart the runtime?\n",
        "\n",
        "If you are using Google Colab, the first time that you run the cell above, you must restart the runtime (Runtime > Restart runtime ...)."
      ]
    },
    {
      "cell_type": "markdown",
      "metadata": {
        "id": "YKbr6rJDC9bk"
      },
      "source": [
        "### Import packages\n",
        "\n",
        "We import necessary packages, including scikit-learn."
      ]
    },
    {
      "cell_type": "code",
      "execution_count": 3,
      "metadata": {
        "id": "y25vFI3WiYj7"
      },
      "outputs": [],
      "source": [
        "from datetime import date\n",
        "from io import BytesIO\n",
        "from IPython import display\n",
        "import model_card_toolkit as mctlib\n",
        "\n"
      ]
    },
    {
      "cell_type": "markdown",
      "metadata": {
        "id": "gN48E4y-iYkT"
      },
      "source": [
        "## Create a model card"
      ]
    },
    {
      "cell_type": "markdown",
      "metadata": {
        "id": "CBdRuxURiYkT"
      },
      "source": [
        "### Initialize toolkit and model card"
      ]
    },
    {
      "cell_type": "code",
      "execution_count": 4,
      "metadata": {
        "id": "CI9ganKQiYkT"
      },
      "outputs": [],
      "source": [
        "mct = mctlib.ModelCardToolkit()\n",
        "\n",
        "model_card = mct.scaffold_assets()"
      ]
    },
    {
      "cell_type": "markdown",
      "metadata": {
        "id": "CERQtrHWiYkV"
      },
      "source": [
        "### Annotate information into model card"
      ]
    },
    {
      "cell_type": "code",
      "execution_count": 6,
      "metadata": {
        "id": "TLzNJ_kriYkV"
      },
      "outputs": [],
      "source": [
        "model_card.model_details.name = 'Spy Plane Finder Dataset'\n",
        "model_card.model_details.overview = (\n",
        "    'This model shows the minute details of spy planes' 'with information such as' \n",
        "    'Company Owner and address, aircraft details, engine manufacturing details and so on')\n",
        "model_card.considerations.users = ['Data Engineers', 'Aviation Analysts']\n",
        "model_card.considerations.ethical_considerations = [{\n",
        "    'name': ('Manual selection of column to compare data with column section sections for users to get desired results and information for thr analysis purpose'),\n",
        "    'mitigation_strategy': 'Simplify the selection process'\n",
        "}]\n",
        "mctlib.Owner(name= 'Model Cards Team', contact='model-cards@google.com')\n",
        "\n",
        "model_card.model_details.references = [\n",
        "    mctlib.Reference(reference='https://www.kaggle.com/code/jihyeseo/airplanes-eda/data'),\n",
        "    mctlib.Reference(reference='https://www.faa.gov/licenses_certificates/aircraft_certification/aircraft_registry/media/ardata.pdf')\n",
        "]\n",
        "model_card.model_details.version.date = str(date.today())\n",
        "\n",
        "model_card.considerations.ethical_considerations = [mctlib.Risk(\n",
        "    name=('Manual selection of column to compare data with column section sections for users to get desired results and information for thr analysis purpose'),\n",
        "    mitigation_strategy='Simplify the selection process'\n",
        ")]\n",
        "model_card.considerations.limitations = [mctlib.Limitation(description='Spy Plane Finder')]\n",
        "model_card.considerations.use_cases = [mctlib.UseCase(description='Spy Plane Finder')]\n",
        "model_card.considerations.users = [mctlib.User(description='Data Engineers'), mctlib.User(description='Aviation Analysts')]\n",
        "\n",
        "mct.update_model_card(model_card)"
      ]
    },
    {
      "cell_type": "markdown",
      "metadata": {
        "id": "TBqFqMHEiYkX"
      },
      "source": [
        "## Generate model card"
      ]
    },
    {
      "cell_type": "code",
      "execution_count": 7,
      "metadata": {
        "id": "XUEG7n7ciYkY",
        "outputId": "3bfed1f7-6af5-4909-a6e4-e30a397d5e2d",
        "colab": {
          "base_uri": "https://localhost:8080/",
          "height": 483
        }
      },
      "outputs": [
        {
          "output_type": "display_data",
          "data": {
            "text/plain": [
              "<IPython.core.display.HTML object>"
            ],
            "text/html": [
              "<!DOCTYPE html>\n",
              "\n",
              "\n",
              "\n",
              "\n",
              "\n",
              "\n",
              "\n",
              "\n",
              "\n",
              "\n",
              "\n",
              "<html lang=\"en\">\n",
              "<head>\n",
              "<style>\n",
              "  h1 {text-align: center;}\n",
              "  .row {\n",
              "    display: flex;\n",
              "  }\n",
              "  .col {\n",
              "    flex: 1;\n",
              "  }\n",
              "  .card {\n",
              "    padding: 1em;\n",
              "    border: 1px solid #DADCE0;\n",
              "    margin: 10px;\n",
              "  }\n",
              "  .img-container {\n",
              "    display: flex;\n",
              "    flex-wrap: wrap;\n",
              "    justify-content: space-around;\n",
              "    text-align: center;\n",
              "  }\n",
              "  .img-item {\n",
              "    flex: 1;\n",
              "  }\n",
              "  .center {\n",
              "    margin-left: auto;\n",
              "    margin-right: auto;\n",
              "  }\n",
              "  table th {\n",
              "    background: #eee;\n",
              "  }\n",
              "  table, th, td {\n",
              "    border: 1px solid black;\n",
              "    border-collapse: collapse;\n",
              "  }\n",
              "  th, td {\n",
              "    border: 1px solid #ccc;\n",
              "    height: 30px;\n",
              "    text-align: left;\n",
              "    padding: 5px 10px\n",
              "  }\n",
              "  caption { font-weight: bold; }\n",
              "</style>\n",
              "<title>\n",
              "  Model Card for Spy Plane Finder Dataset\n",
              "</title>\n",
              "</head>\n",
              "<body>\n",
              "  <h1>\n",
              "    Model Card for Spy Plane Finder Dataset\n",
              "  </h1>\n",
              "    <div class=\"row\">\n",
              "      <div class=\"col card\">\n",
              "        <h2>Model Details</h2>\n",
              "          <h3>Overview</h3>\n",
              "              This model shows the minute details of spy planeswith information such asCompany Owner and address, aircraft details, engine manufacturing details and so on\n",
              "          \n",
              "          \n",
              "          \n",
              "          \n",
              "          \n",
              "            <h3>References</h3>\n",
              "              <ul>\n",
              "              \n",
              "                <li><a href=\"https://www.kaggle.com/code/jihyeseo/airplanes-eda/data\">https://www.kaggle.com/code/jihyeseo/airplanes-eda/data</a></li>\n",
              "              \n",
              "                <li><a href=\"https://www.faa.gov/licenses_certificates/aircraft_certification/aircraft_registry/media/ardata.pdf\">https://www.faa.gov/licenses_certificates/aircraft_certification/aircraft_registry/media/ardata.pdf</a></li>\n",
              "              \n",
              "              </ul>\n",
              "          \n",
              "        </div>\n",
              "      \n",
              "      \n",
              "      <div class=\"col card\">\n",
              "        <h2>Considerations</h2>\n",
              "          \n",
              "            <h3>Intended Users</h3>\n",
              "              \n",
              "  \n",
              "  <ul>\n",
              "  \n",
              "    <li>Data Engineers</li>\n",
              "  \n",
              "    <li>Aviation Analysts</li>\n",
              "  \n",
              "  </ul>\n",
              "\n",
              "          \n",
              "          \n",
              "            <h3>Use Cases</h3>\n",
              "              \n",
              "  \n",
              "  <ul>\n",
              "  \n",
              "    <li>Spy Plane Finder</li>\n",
              "  \n",
              "  </ul>\n",
              "\n",
              "          \n",
              "          \n",
              "            <h3>Limitations</h3>\n",
              "              \n",
              "  \n",
              "  <ul>\n",
              "  \n",
              "    <li>Spy Plane Finder</li>\n",
              "  \n",
              "  </ul>\n",
              "\n",
              "          \n",
              "          \n",
              "          \n",
              "            <h3>Ethical Considerations</h3>\n",
              "              <ul>\n",
              "                <li>\n",
              "                  <div>Risk: Manual selection of column to compare data with column section sections for users to get desired results and information for thr analysis purpose</div>\n",
              "                  <div>Mitigation Strategy: Simplify the selection process</div>\n",
              "                </li> </ul>\n",
              "      </div>\n",
              "      \n",
              "    </div>\n",
              "    \n",
              "    \n",
              "</body>\n",
              "</html>"
            ]
          },
          "metadata": {}
        }
      ],
      "source": [
        "# Return the model card document as an HTML page\n",
        "\n",
        "html = mct.export_format()\n",
        "display.display(display.HTML(html))"
      ]
    }
  ],
  "metadata": {
    "colab": {
      "collapsed_sections": [],
      "name": "Scikit_Learn_Model_Card_Toolkit_Demo (1).ipynb",
      "provenance": []
    },
    "environment": {
      "name": "common-cpu.m56",
      "type": "gcloud",
      "uri": "gcr.io/deeplearning-platform-release/base-cpu:m56"
    },
    "kernelspec": {
      "display_name": "Python 3",
      "language": "python",
      "name": "python3"
    },
    "language_info": {
      "codemirror_mode": {
        "name": "ipython",
        "version": 3
      },
      "file_extension": ".py",
      "mimetype": "text/x-python",
      "name": "python",
      "nbconvert_exporter": "python",
      "pygments_lexer": "ipython3",
      "version": "3.7.8"
    }
  },
  "nbformat": 4,
  "nbformat_minor": 0
}