{
 "cells": [
  {
   "cell_type": "markdown",
   "id": "23914293",
   "metadata": {},
   "source": [
    "# Create Your Checkpoint\n",
    "Use this notebook to configure a new Checkpoint and add it to your project:\n",
    "\n",
    "**Checkpoint Name**: `faa_registration_checkpoint_v0.1`"
   ]
  },
  {
   "cell_type": "code",
   "execution_count": 1,
   "id": "f8e13f63",
   "metadata": {},
   "outputs": [
    {
     "name": "stderr",
     "output_type": "stream",
     "text": [
      "/Users/piyush/Sandbox/DAMG7245_Assignment_01/spyplane/lib/python3.7/site-packages/great_expectations/datasource/data_connector/runtime_data_connector.py:135: DeprecationWarning: Specifying batch_identifiers as part of the RuntimeDataConnector config is deprecated as of v0.15.1 and will be removed by v0.18. Please configure batch_identifiers as part of Assets instead.\n",
      "  DeprecationWarning,\n"
     ]
    }
   ],
   "source": [
    "from ruamel.yaml import YAML\n",
    "import great_expectations as ge\n",
    "from pprint import pprint\n",
    "\n",
    "yaml = YAML()\n",
    "context = ge.get_context()"
   ]
  },
  {
   "cell_type": "markdown",
   "id": "ab742104",
   "metadata": {},
   "source": [
    "# Create a Checkpoint Configuration\n",
    "\n",
    "**If you are new to Great Expectations or the Checkpoint feature**, you should start with SimpleCheckpoint because it includes default configurations like a default list of post validation actions.\n",
    "\n",
    "In the cell below we have created a sample Checkpoint configuration using **your configuration** and **SimpleCheckpoint** to run a single validation of a single Expectation Suite against a single Batch of data.\n",
    "\n",
    "To keep it simple, we are just choosing the first available instance of each of the following items you have configured in your Data Context:\n",
    "* Datasource\n",
    "* DataConnector\n",
    "* DataAsset\n",
    "* Partition\n",
    "* Expectation Suite\n",
    "\n",
    "Of course this is purely an example, you may edit this to your heart's content.\n",
    "\n",
    "**My configuration is not so simple - are there more advanced options?**\n",
    "\n",
    "Glad you asked! Checkpoints are very versatile. For example, you can validate many Batches in a single Checkpoint, validate Batches against different Expectation Suites or against many Expectation Suites, control the specific post-validation actions based on Expectation Suite / Batch / results of validation among other features. Check out our documentation on Checkpoints for more details and for instructions on how to implement other more advanced features including using the **Checkpoint** class:\n",
    "- https://docs.greatexpectations.io/docs/reference/checkpoints_and_actions\n",
    "- https://docs.greatexpectations.io/docs/guides/validation/checkpoints/how_to_create_a_new_checkpoint\n",
    "- https://docs.greatexpectations.io/docs/guides/validation/checkpoints/how_to_configure_a_new_checkpoint_using_test_yaml_config"
   ]
  },
  {
   "cell_type": "code",
   "execution_count": 2,
   "id": "33f2dbf4",
   "metadata": {},
   "outputs": [
    {
     "name": "stdout",
     "output_type": "stream",
     "text": [
      "\n",
      "name: faa_registration_checkpoint_v0.1\n",
      "config_version: 1.0\n",
      "class_name: SimpleCheckpoint\n",
      "run_name_template: \"%Y%m%d-%H%M%S-my-run-name-template\"\n",
      "validations:\n",
      "  - batch_request:\n",
      "      datasource_name: spy_plane_data\n",
      "      data_connector_name: default_inferred_data_connector_name\n",
      "      data_asset_name: faa_registration\n",
      "      data_connector_query:\n",
      "        index: -1\n",
      "    expectation_suite_name: faa_registration_suite\n",
      "\n"
     ]
    }
   ],
   "source": [
    "my_checkpoint_name = \"faa_registration_checkpoint_v0.1\" # This was populated from your CLI command.\n",
    "\n",
    "yaml_config = f\"\"\"\n",
    "name: {my_checkpoint_name}\n",
    "config_version: 1.0\n",
    "class_name: SimpleCheckpoint\n",
    "run_name_template: \"%Y%m%d-%H%M%S-my-run-name-template\"\n",
    "validations:\n",
    "  - batch_request:\n",
    "      datasource_name: spy_plane_data\n",
    "      data_connector_name: default_inferred_data_connector_name\n",
    "      data_asset_name: faa_registration\n",
    "      data_connector_query:\n",
    "        index: -1\n",
    "    expectation_suite_name: faa_registration_suite\n",
    "\"\"\"\n",
    "print(yaml_config)"
   ]
  },
  {
   "cell_type": "markdown",
   "id": "5883847f",
   "metadata": {},
   "source": [
    "# Customize Your Configuration\n",
    "The following cells show examples for listing your current configuration. You can replace values in the sample configuration with these values to customize your Checkpoint."
   ]
  },
  {
   "cell_type": "code",
   "execution_count": 3,
   "id": "2a7362cb",
   "metadata": {},
   "outputs": [
    {
     "name": "stdout",
     "output_type": "stream",
     "text": [
      "{'spy_plane_data': {'default_inferred_data_connector_name': ['faa_registration',\n",
      "                                                             'planes_features'],\n",
      "                    'default_runtime_data_connector_name': []}}\n"
     ]
    }
   ],
   "source": [
    "# Run this cell to print out the names of your Datasources, Data Connectors and Data Assets\n",
    "pprint(context.get_available_data_asset_names())"
   ]
  },
  {
   "cell_type": "code",
   "execution_count": 4,
   "id": "0288577a",
   "metadata": {},
   "outputs": [
    {
     "data": {
      "text/plain": [
       "['faa_registration_suite',\n",
       " 'tmp.domain_builder_suite_059e36a0',\n",
       " 'tmp.domain_builder_suite_25575656',\n",
       " 'tmp.domain_builder_suite_3cb69504',\n",
       " 'tmp.domain_builder_suite_540ad558',\n",
       " 'tmp.domain_builder_suite_7b5dbcbd',\n",
       " 'tmp.domain_builder_suite_966fe210',\n",
       " 'tmp.domain_builder_suite_b6edc285',\n",
       " 'tmp.parameter_builder_21567ebc46c357ad6ca7250002bdf0b1_suite_1a795f5f',\n",
       " 'tmp.parameter_builder_21567ebc46c357ad6ca7250002bdf0b1_suite_2788993d',\n",
       " 'tmp.parameter_builder_21567ebc46c357ad6ca7250002bdf0b1_suite_2f84d612',\n",
       " 'tmp.parameter_builder_21567ebc46c357ad6ca7250002bdf0b1_suite_5d87b15b',\n",
       " 'tmp.parameter_builder_21567ebc46c357ad6ca7250002bdf0b1_suite_767def4e',\n",
       " 'tmp.parameter_builder_21567ebc46c357ad6ca7250002bdf0b1_suite_7e07d3e3',\n",
       " 'tmp.parameter_builder_21567ebc46c357ad6ca7250002bdf0b1_suite_81057816',\n",
       " 'tmp.parameter_builder_21567ebc46c357ad6ca7250002bdf0b1_suite_86ebf79d',\n",
       " 'tmp.parameter_builder_21567ebc46c357ad6ca7250002bdf0b1_suite_a09abcdd',\n",
       " 'tmp.parameter_builder_21567ebc46c357ad6ca7250002bdf0b1_suite_c6f1acff',\n",
       " 'tmp.parameter_builder_21567ebc46c357ad6ca7250002bdf0b1_suite_cac363d7',\n",
       " 'tmp.parameter_builder_21567ebc46c357ad6ca7250002bdf0b1_suite_db14cb98',\n",
       " 'tmp.parameter_builder_21567ebc46c357ad6ca7250002bdf0b1_suite_e851d8e8',\n",
       " 'tmp.parameter_builder_21567ebc46c357ad6ca7250002bdf0b1_suite_f550a83c',\n",
       " 'tmp.parameter_builder_21567ebc46c357ad6ca7250002bdf0b1_suite_f8416da7',\n",
       " 'tmp.parameter_builder_21567ebc46c357ad6ca7250002bdf0b1_suite_fa873f4d',\n",
       " 'tmp.parameter_builder_3822f137ca96df05e8d3ced4687bb130_suite_01b4f2e5',\n",
       " 'tmp.parameter_builder_3822f137ca96df05e8d3ced4687bb130_suite_85030aff',\n",
       " 'tmp.parameter_builder_3822f137ca96df05e8d3ced4687bb130_suite_abf74c90',\n",
       " 'tmp.parameter_builder_3822f137ca96df05e8d3ced4687bb130_suite_b8746fc5',\n",
       " 'tmp.parameter_builder_3822f137ca96df05e8d3ced4687bb130_suite_f7fbe926',\n",
       " 'tmp.parameter_builder_3bfb7b4bdb874cf095f5a38fd06057e4_suite_26d3e927',\n",
       " 'tmp.parameter_builder_3bfb7b4bdb874cf095f5a38fd06057e4_suite_3f664537',\n",
       " 'tmp.parameter_builder_3bfb7b4bdb874cf095f5a38fd06057e4_suite_858b3d4c',\n",
       " 'tmp.parameter_builder_3bfb7b4bdb874cf095f5a38fd06057e4_suite_dd917539',\n",
       " 'tmp.parameter_builder_5b537ff648c9f2f436e8b4853c11e72f_suite_7dbde44b',\n",
       " 'tmp.parameter_builder_5b537ff648c9f2f436e8b4853c11e72f_suite_987a5343',\n",
       " 'tmp.parameter_builder_5b537ff648c9f2f436e8b4853c11e72f_suite_e43e7967',\n",
       " 'tmp.parameter_builder_5b537ff648c9f2f436e8b4853c11e72f_suite_ea3a882a',\n",
       " 'tmp.parameter_builder_5b537ff648c9f2f436e8b4853c11e72f_suite_fc821798',\n",
       " 'tmp.parameter_builder_65f3115c05b657ae8a74d95ee4f383a0_suite_d157f99c',\n",
       " 'tmp.parameter_builder_65f3115c05b657ae8a74d95ee4f383a0_suite_d4de01d1',\n",
       " 'tmp.parameter_builder_65f3115c05b657ae8a74d95ee4f383a0_suite_da59d1c2',\n",
       " 'tmp.parameter_builder_65f3115c05b657ae8a74d95ee4f383a0_suite_e009e9e0',\n",
       " 'tmp.parameter_builder_65f3115c05b657ae8a74d95ee4f383a0_suite_e99f678e',\n",
       " 'tmp.parameter_builder_6a6b6bddde14a9c5ad4d2d9008d5868f_suite_05850a7d',\n",
       " 'tmp.parameter_builder_6a6b6bddde14a9c5ad4d2d9008d5868f_suite_346cc20f',\n",
       " 'tmp.parameter_builder_6a6b6bddde14a9c5ad4d2d9008d5868f_suite_3caf135a',\n",
       " 'tmp.parameter_builder_6a6b6bddde14a9c5ad4d2d9008d5868f_suite_501f06a6',\n",
       " 'tmp.parameter_builder_6a6b6bddde14a9c5ad4d2d9008d5868f_suite_9a374027',\n",
       " 'tmp.parameter_builder_9da7935e900679245414a8f1ef76f8a4_suite_00ac83ce',\n",
       " 'tmp.parameter_builder_9da7935e900679245414a8f1ef76f8a4_suite_0b2cb66e',\n",
       " 'tmp.parameter_builder_9da7935e900679245414a8f1ef76f8a4_suite_0cc8753e',\n",
       " 'tmp.parameter_builder_9da7935e900679245414a8f1ef76f8a4_suite_0e8b4f37',\n",
       " 'tmp.parameter_builder_9da7935e900679245414a8f1ef76f8a4_suite_2266afd2',\n",
       " 'tmp.parameter_builder_9da7935e900679245414a8f1ef76f8a4_suite_2812beba',\n",
       " 'tmp.parameter_builder_9da7935e900679245414a8f1ef76f8a4_suite_39ffa859',\n",
       " 'tmp.parameter_builder_9da7935e900679245414a8f1ef76f8a4_suite_4b36764f',\n",
       " 'tmp.parameter_builder_9da7935e900679245414a8f1ef76f8a4_suite_75e33a4b',\n",
       " 'tmp.parameter_builder_9da7935e900679245414a8f1ef76f8a4_suite_7d5e25f0',\n",
       " 'tmp.parameter_builder_9da7935e900679245414a8f1ef76f8a4_suite_8056c5d1',\n",
       " 'tmp.parameter_builder_9da7935e900679245414a8f1ef76f8a4_suite_ad5bb31d',\n",
       " 'tmp.parameter_builder_9da7935e900679245414a8f1ef76f8a4_suite_c4eb8cf3',\n",
       " 'tmp.parameter_builder_9da7935e900679245414a8f1ef76f8a4_suite_d3f91d98',\n",
       " 'tmp.parameter_builder_9da7935e900679245414a8f1ef76f8a4_suite_eb4bf2f2',\n",
       " 'tmp.parameter_builder_9da7935e900679245414a8f1ef76f8a4_suite_f5e35969',\n",
       " 'tmp.parameter_builder_ae4949a97271ffaa574e61b9781ec64b_suite_00634990',\n",
       " 'tmp.parameter_builder_ae4949a97271ffaa574e61b9781ec64b_suite_09e8422b',\n",
       " 'tmp.parameter_builder_ae4949a97271ffaa574e61b9781ec64b_suite_300a1f37',\n",
       " 'tmp.parameter_builder_ae4949a97271ffaa574e61b9781ec64b_suite_3cbc090b',\n",
       " 'tmp.parameter_builder_ae4949a97271ffaa574e61b9781ec64b_suite_49030fdd',\n",
       " 'tmp.parameter_builder_ae4949a97271ffaa574e61b9781ec64b_suite_4c802b46',\n",
       " 'tmp.parameter_builder_ae4949a97271ffaa574e61b9781ec64b_suite_5346eba3',\n",
       " 'tmp.parameter_builder_ae4949a97271ffaa574e61b9781ec64b_suite_57bf7a91',\n",
       " 'tmp.parameter_builder_ae4949a97271ffaa574e61b9781ec64b_suite_8f40018c',\n",
       " 'tmp.parameter_builder_ae4949a97271ffaa574e61b9781ec64b_suite_9333056c',\n",
       " 'tmp.parameter_builder_ae4949a97271ffaa574e61b9781ec64b_suite_aca591ff',\n",
       " 'tmp.parameter_builder_ae4949a97271ffaa574e61b9781ec64b_suite_b1aada36',\n",
       " 'tmp.parameter_builder_ae4949a97271ffaa574e61b9781ec64b_suite_c3a72317',\n",
       " 'tmp.parameter_builder_ae4949a97271ffaa574e61b9781ec64b_suite_c4c8d146',\n",
       " 'tmp.parameter_builder_ae4949a97271ffaa574e61b9781ec64b_suite_cd291986',\n",
       " 'tmp.parameter_builder_ae4949a97271ffaa574e61b9781ec64b_suite_f1aa2eb9',\n",
       " 'tmp.parameter_builder_ae5fc75e4e8014edfa03c661cd577539_suite_01d9a430',\n",
       " 'tmp.parameter_builder_ae5fc75e4e8014edfa03c661cd577539_suite_0294194d',\n",
       " 'tmp.parameter_builder_ae5fc75e4e8014edfa03c661cd577539_suite_09465fa5',\n",
       " 'tmp.parameter_builder_ae5fc75e4e8014edfa03c661cd577539_suite_094d0ed6',\n",
       " 'tmp.parameter_builder_ae5fc75e4e8014edfa03c661cd577539_suite_0970c4aa',\n",
       " 'tmp.parameter_builder_ae5fc75e4e8014edfa03c661cd577539_suite_34cb933f',\n",
       " 'tmp.parameter_builder_ae5fc75e4e8014edfa03c661cd577539_suite_39b23f28',\n",
       " 'tmp.parameter_builder_ae5fc75e4e8014edfa03c661cd577539_suite_3b8efc06',\n",
       " 'tmp.parameter_builder_ae5fc75e4e8014edfa03c661cd577539_suite_47a9f77c',\n",
       " 'tmp.parameter_builder_ae5fc75e4e8014edfa03c661cd577539_suite_65d37370',\n",
       " 'tmp.parameter_builder_ae5fc75e4e8014edfa03c661cd577539_suite_67bccf7e',\n",
       " 'tmp.parameter_builder_ae5fc75e4e8014edfa03c661cd577539_suite_8b03aaf8',\n",
       " 'tmp.parameter_builder_ae5fc75e4e8014edfa03c661cd577539_suite_a769d6ff',\n",
       " 'tmp.parameter_builder_ae5fc75e4e8014edfa03c661cd577539_suite_a83624d9',\n",
       " 'tmp.parameter_builder_ae5fc75e4e8014edfa03c661cd577539_suite_b82c540a',\n",
       " 'tmp.parameter_builder_ae5fc75e4e8014edfa03c661cd577539_suite_ee2234f6',\n",
       " 'tmp.parameter_builder_bb69c26287f78862abf4d2d3dc5709b7_suite_0ad7e3e3',\n",
       " 'tmp.parameter_builder_bb69c26287f78862abf4d2d3dc5709b7_suite_2d0c416d',\n",
       " 'tmp.parameter_builder_bb69c26287f78862abf4d2d3dc5709b7_suite_3e63880f',\n",
       " 'tmp.parameter_builder_bb69c26287f78862abf4d2d3dc5709b7_suite_4a32b7a9',\n",
       " 'tmp.parameter_builder_bb69c26287f78862abf4d2d3dc5709b7_suite_f086e3f0',\n",
       " 'tmp.parameter_builder_d3d6f327bf7ddfe83060a192a9cf3e10_suite_0fb59bd1',\n",
       " 'tmp.parameter_builder_d3d6f327bf7ddfe83060a192a9cf3e10_suite_326da686',\n",
       " 'tmp.parameter_builder_d3d6f327bf7ddfe83060a192a9cf3e10_suite_430f4d7b',\n",
       " 'tmp.parameter_builder_d3d6f327bf7ddfe83060a192a9cf3e10_suite_dd0c1d61',\n",
       " 'tmp.parameter_builder_d3d6f327bf7ddfe83060a192a9cf3e10_suite_e08bb5b0',\n",
       " 'tmp.parameter_builder_d8d3aa56d9148248500d1355132be851_suite_8575363e',\n",
       " 'tmp.parameter_builder_d8d3aa56d9148248500d1355132be851_suite_91feac53',\n",
       " 'tmp.parameter_builder_d8d3aa56d9148248500d1355132be851_suite_9e693f96',\n",
       " 'tmp.parameter_builder_d8d3aa56d9148248500d1355132be851_suite_c1d7ec22',\n",
       " 'tmp.parameter_builder_d8d3aa56d9148248500d1355132be851_suite_fc2b7db7',\n",
       " 'tmp.parameter_builder_f2232dfaf3266a6983a0af90cb930289_suite_399a421e',\n",
       " 'tmp.parameter_builder_f2232dfaf3266a6983a0af90cb930289_suite_90f22402',\n",
       " 'tmp.parameter_builder_f2232dfaf3266a6983a0af90cb930289_suite_ba1acda8',\n",
       " 'tmp.parameter_builder_f2232dfaf3266a6983a0af90cb930289_suite_d0c862b3',\n",
       " 'tmp.parameter_builder_f2232dfaf3266a6983a0af90cb930289_suite_fcb4ae83',\n",
       " 'tmp.parameter_builder_f7cfda56817bb2ae4d63dcdc9fe880d7_suite_0bc71298',\n",
       " 'tmp.parameter_builder_f7cfda56817bb2ae4d63dcdc9fe880d7_suite_34f60a56',\n",
       " 'tmp.parameter_builder_f7cfda56817bb2ae4d63dcdc9fe880d7_suite_3a4d7a11',\n",
       " 'tmp.parameter_builder_f7cfda56817bb2ae4d63dcdc9fe880d7_suite_45b0b8e4',\n",
       " 'tmp.parameter_builder_f7cfda56817bb2ae4d63dcdc9fe880d7_suite_6a005e0e',\n",
       " 'tmp.parameter_builder_f7cfda56817bb2ae4d63dcdc9fe880d7_suite_6d8f049e',\n",
       " 'tmp.parameter_builder_f7cfda56817bb2ae4d63dcdc9fe880d7_suite_6dc9f203',\n",
       " 'tmp.parameter_builder_f7cfda56817bb2ae4d63dcdc9fe880d7_suite_73e75eca',\n",
       " 'tmp.parameter_builder_f7cfda56817bb2ae4d63dcdc9fe880d7_suite_91d9d3c7',\n",
       " 'tmp.parameter_builder_f7cfda56817bb2ae4d63dcdc9fe880d7_suite_b00ac295',\n",
       " 'tmp.parameter_builder_f7cfda56817bb2ae4d63dcdc9fe880d7_suite_b57bc6d4',\n",
       " 'tmp.parameter_builder_f7cfda56817bb2ae4d63dcdc9fe880d7_suite_c3cc320a',\n",
       " 'tmp.parameter_builder_f7cfda56817bb2ae4d63dcdc9fe880d7_suite_cda04e62',\n",
       " 'tmp.parameter_builder_f7cfda56817bb2ae4d63dcdc9fe880d7_suite_db5b2485',\n",
       " 'tmp.parameter_builder_f7cfda56817bb2ae4d63dcdc9fe880d7_suite_e3957313',\n",
       " 'tmp.parameter_builder_f7cfda56817bb2ae4d63dcdc9fe880d7_suite_e58f2721']"
      ]
     },
     "execution_count": 4,
     "metadata": {},
     "output_type": "execute_result"
    }
   ],
   "source": [
    "context.list_expectation_suite_names()"
   ]
  },
  {
   "cell_type": "markdown",
   "id": "19e1c1e1",
   "metadata": {},
   "source": [
    "# Test Your Checkpoint Configuration\n",
    "Here we will test your Checkpoint configuration to make sure it is valid.\n",
    "\n",
    "This `test_yaml_config()` function is meant to enable fast dev loops. If your configuration is correct, this cell will show a message that you successfully instantiated a Checkpoint. You can continually edit your Checkpoint config yaml and re-run the cell to check until the new config is valid.\n",
    "\n",
    "If you instead wish to use python instead of yaml to configure your Checkpoint, you can use `context.add_checkpoint()` and specify all the required parameters."
   ]
  },
  {
   "cell_type": "code",
   "execution_count": 5,
   "id": "e5343fb0",
   "metadata": {},
   "outputs": [
    {
     "name": "stdout",
     "output_type": "stream",
     "text": [
      "Attempting to instantiate class from config...\n",
      "\tInstantiating as a SimpleCheckpoint, since class_name is SimpleCheckpoint\n",
      "\tSuccessfully instantiated SimpleCheckpoint\n",
      "\n",
      "\n",
      "Checkpoint class name: SimpleCheckpoint\n"
     ]
    }
   ],
   "source": [
    "my_checkpoint = context.test_yaml_config(yaml_config=yaml_config)"
   ]
  },
  {
   "cell_type": "markdown",
   "id": "67bf269b",
   "metadata": {},
   "source": [
    "# Review Your Checkpoint\n",
    "\n",
    "You can run the following cell to print out the full yaml configuration. For example, if you used **SimpleCheckpoint**  this will show you the default action list."
   ]
  },
  {
   "cell_type": "code",
   "execution_count": 6,
   "id": "77d0a570",
   "metadata": {},
   "outputs": [
    {
     "name": "stdout",
     "output_type": "stream",
     "text": [
      "name: faa_registration_checkpoint_v0.1\n",
      "config_version: 1.0\n",
      "template_name:\n",
      "module_name: great_expectations.checkpoint\n",
      "class_name: Checkpoint\n",
      "run_name_template: '%Y%m%d-%H%M%S-my-run-name-template'\n",
      "expectation_suite_name:\n",
      "batch_request: {}\n",
      "action_list:\n",
      "  - name: store_validation_result\n",
      "    action:\n",
      "      class_name: StoreValidationResultAction\n",
      "  - name: store_evaluation_params\n",
      "    action:\n",
      "      class_name: StoreEvaluationParametersAction\n",
      "  - name: update_data_docs\n",
      "    action:\n",
      "      class_name: UpdateDataDocsAction\n",
      "      site_names: []\n",
      "evaluation_parameters: {}\n",
      "runtime_configuration: {}\n",
      "validations:\n",
      "  - batch_request:\n",
      "      datasource_name: spy_plane_data\n",
      "      data_connector_name: default_inferred_data_connector_name\n",
      "      data_asset_name: faa_registration\n",
      "      data_connector_query:\n",
      "        index: -1\n",
      "    expectation_suite_name: faa_registration_suite\n",
      "profilers: []\n",
      "ge_cloud_id:\n",
      "expectation_suite_ge_cloud_id:\n",
      "\n"
     ]
    }
   ],
   "source": [
    "print(my_checkpoint.get_config(mode=\"yaml\"))"
   ]
  },
  {
   "cell_type": "markdown",
   "id": "4da9fef3",
   "metadata": {},
   "source": [
    "# Add Your Checkpoint\n",
    "\n",
    "Run the following cell to save this Checkpoint to your Checkpoint Store."
   ]
  },
  {
   "cell_type": "code",
   "execution_count": 7,
   "id": "e5152e15",
   "metadata": {},
   "outputs": [
    {
     "data": {
      "text/plain": [
       "{\n",
       "  \"action_list\": [\n",
       "    {\n",
       "      \"name\": \"store_validation_result\",\n",
       "      \"action\": {\n",
       "        \"class_name\": \"StoreValidationResultAction\"\n",
       "      }\n",
       "    },\n",
       "    {\n",
       "      \"name\": \"store_evaluation_params\",\n",
       "      \"action\": {\n",
       "        \"class_name\": \"StoreEvaluationParametersAction\"\n",
       "      }\n",
       "    },\n",
       "    {\n",
       "      \"name\": \"update_data_docs\",\n",
       "      \"action\": {\n",
       "        \"class_name\": \"UpdateDataDocsAction\",\n",
       "        \"site_names\": []\n",
       "      }\n",
       "    }\n",
       "  ],\n",
       "  \"batch_request\": {},\n",
       "  \"class_name\": \"Checkpoint\",\n",
       "  \"config_version\": 1.0,\n",
       "  \"evaluation_parameters\": {},\n",
       "  \"module_name\": \"great_expectations.checkpoint\",\n",
       "  \"name\": \"faa_registration_checkpoint_v0.1\",\n",
       "  \"profilers\": [],\n",
       "  \"run_name_template\": \"%Y%m%d-%H%M%S-my-run-name-template\",\n",
       "  \"runtime_configuration\": {},\n",
       "  \"validations\": [\n",
       "    {\n",
       "      \"batch_request\": {\n",
       "        \"datasource_name\": \"spy_plane_data\",\n",
       "        \"data_connector_name\": \"default_inferred_data_connector_name\",\n",
       "        \"data_asset_name\": \"faa_registration\",\n",
       "        \"data_connector_query\": {\n",
       "          \"index\": -1\n",
       "        }\n",
       "      },\n",
       "      \"expectation_suite_name\": \"faa_registration_suite\"\n",
       "    }\n",
       "  ]\n",
       "}"
      ]
     },
     "execution_count": 7,
     "metadata": {},
     "output_type": "execute_result"
    }
   ],
   "source": [
    "context.add_checkpoint(**yaml.load(yaml_config))"
   ]
  },
  {
   "cell_type": "markdown",
   "id": "0499edc9",
   "metadata": {},
   "source": [
    "# Run Your Checkpoint & Open Data Docs(Optional)\n",
    "\n",
    "You may wish to run the Checkpoint now and review its output in Data Docs. If so uncomment and run the following cell."
   ]
  },
  {
   "cell_type": "code",
   "execution_count": 8,
   "id": "e3298501",
   "metadata": {},
   "outputs": [
    {
     "data": {
      "application/vnd.jupyter.widget-view+json": {
       "model_id": "8622b05f433e48d7b3625010fe851894",
       "version_major": 2,
       "version_minor": 0
      },
      "text/plain": [
       "Calculating Metrics:   0%|          | 0/30 [00:00<?, ?it/s]"
      ]
     },
     "metadata": {},
     "output_type": "display_data"
    }
   ],
   "source": [
    "context.run_checkpoint(checkpoint_name=my_checkpoint_name)\n",
    "context.open_data_docs()"
   ]
  },
  {
   "cell_type": "code",
   "execution_count": null,
   "id": "b2cce2c3",
   "metadata": {},
   "outputs": [],
   "source": []
  }
 ],
 "metadata": {
  "kernelspec": {
   "display_name": "Python 3 (ipykernel)",
   "language": "python",
   "name": "python3"
  },
  "language_info": {
   "codemirror_mode": {
    "name": "ipython",
    "version": 3
   },
   "file_extension": ".py",
   "mimetype": "text/x-python",
   "name": "python",
   "nbconvert_exporter": "python",
   "pygments_lexer": "ipython3",
   "version": "3.7.9"
  }
 },
 "nbformat": 4,
 "nbformat_minor": 5
}
